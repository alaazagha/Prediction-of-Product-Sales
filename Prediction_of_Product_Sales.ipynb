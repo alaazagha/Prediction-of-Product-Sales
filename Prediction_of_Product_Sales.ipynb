{
  "nbformat": 4,
  "nbformat_minor": 0,
  "metadata": {
    "colab": {
      "provenance": [],
      "authorship_tag": "ABX9TyM5LHk6XPtM815PTgDyHCw8",
      "include_colab_link": true
    },
    "kernelspec": {
      "name": "python3",
      "display_name": "Python 3"
    },
    "language_info": {
      "name": "python"
    }
  },
  "cells": [
    {
      "cell_type": "markdown",
      "metadata": {
        "id": "view-in-github",
        "colab_type": "text"
      },
      "source": [
        "<a href=\"https://colab.research.google.com/github/alaazagha/Prediction-of-Product-Sales/blob/main/Prediction_of_Product_Sales.ipynb\" target=\"_parent\"><img src=\"https://colab.research.google.com/assets/colab-badge.svg\" alt=\"Open In Colab\"/></a>"
      ]
    },
    {
      "cell_type": "markdown",
      "source": [
        "# Prediction of Product Sales"
      ],
      "metadata": {
        "id": "Rwh60Lel14WA"
      }
    },
    {
      "cell_type": "markdown",
      "source": [
        " - Author: Alaa Zagha"
      ],
      "metadata": {
        "id": "1tg8-xyg2HG3"
      }
    },
    {
      "cell_type": "markdown",
      "source": [
        "## Project Overview"
      ],
      "metadata": {
        "id": "ivMpCniJ2LBe"
      }
    },
    {
      "cell_type": "code",
      "source": [],
      "metadata": {
        "id": "9Tu7A8zF2ypl"
      },
      "execution_count": null,
      "outputs": []
    },
    {
      "cell_type": "markdown",
      "source": [
        "## Load and Inspect Data"
      ],
      "metadata": {
        "id": "BNvqWphA2Pbm"
      }
    },
    {
      "cell_type": "code",
      "source": [],
      "metadata": {
        "id": "KW221OC12zWF"
      },
      "execution_count": null,
      "outputs": []
    },
    {
      "cell_type": "markdown",
      "source": [
        "## Clean Data"
      ],
      "metadata": {
        "id": "o9UFT5NE2XjP"
      }
    },
    {
      "cell_type": "code",
      "source": [],
      "metadata": {
        "id": "g18sBSnR2z2U"
      },
      "execution_count": null,
      "outputs": []
    },
    {
      "cell_type": "markdown",
      "source": [
        "## Exploratory Data Analysis"
      ],
      "metadata": {
        "id": "_TM3tNQr2ckn"
      }
    },
    {
      "cell_type": "code",
      "source": [],
      "metadata": {
        "id": "dTrwLhgH20zc"
      },
      "execution_count": null,
      "outputs": []
    },
    {
      "cell_type": "markdown",
      "source": [
        "## Feature Inspection"
      ],
      "metadata": {
        "id": "OEFL2VmU2sQe"
      }
    },
    {
      "cell_type": "code",
      "source": [],
      "metadata": {
        "id": "ULCQuNym21RN"
      },
      "execution_count": null,
      "outputs": []
    }
  ]
}